{
  "nbformat": 4,
  "nbformat_minor": 0,
  "metadata": {
    "colab": {
      "provenance": [],
      "authorship_tag": "ABX9TyOXZC5S/ghVfOUsxfdc7azz",
      "include_colab_link": true
    },
    "kernelspec": {
      "name": "python3",
      "display_name": "Python 3"
    },
    "language_info": {
      "name": "python"
    }
  },
  "cells": [
    {
      "cell_type": "markdown",
      "metadata": {
        "id": "view-in-github",
        "colab_type": "text"
      },
      "source": [
        "<a href=\"https://colab.research.google.com/github/karthikeyanr8/Minor_Project/blob/main/untitled11.ipynb\" target=\"_parent\"><img src=\"https://colab.research.google.com/assets/colab-badge.svg\" alt=\"Open In Colab\"/></a>"
      ]
    },
    {
      "cell_type": "code",
      "execution_count": null,
      "metadata": {
        "colab": {
          "base_uri": "https://localhost:8080/",
          "height": 227
        },
        "id": "PSwMD2ZKAVs8",
        "outputId": "0456ad55-cf0e-45a4-b789-8bf86248e877"
      },
      "outputs": [
        {
          "output_type": "error",
          "ename": "NameError",
          "evalue": "ignored",
          "traceback": [
            "\u001b[0;31m---------------------------------------------------------------------------\u001b[0m",
            "\u001b[0;31mNameError\u001b[0m                                 Traceback (most recent call last)",
            "\u001b[0;32m<ipython-input-1-0b27d8561db2>\u001b[0m in \u001b[0;36m<cell line: 78>\u001b[0;34m()\u001b[0m\n\u001b[1;32m     76\u001b[0m         \u001b[0mprint\u001b[0m\u001b[0;34m(\u001b[0m\u001b[0;34m\"Shared keys do not match!\"\u001b[0m\u001b[0;34m)\u001b[0m\u001b[0;34m\u001b[0m\u001b[0;34m\u001b[0m\u001b[0m\n\u001b[1;32m     77\u001b[0m \u001b[0;34m\u001b[0m\u001b[0m\n\u001b[0;32m---> 78\u001b[0;31m \u001b[0;32mif\u001b[0m \u001b[0m_name_\u001b[0m \u001b[0;34m==\u001b[0m \u001b[0;34m\"_main_\"\u001b[0m\u001b[0;34m:\u001b[0m\u001b[0;34m\u001b[0m\u001b[0;34m\u001b[0m\u001b[0m\n\u001b[0m\u001b[1;32m     79\u001b[0m     \u001b[0mmain\u001b[0m\u001b[0;34m(\u001b[0m\u001b[0;34m)\u001b[0m\u001b[0;34m\u001b[0m\u001b[0;34m\u001b[0m\u001b[0m\n",
            "\u001b[0;31mNameError\u001b[0m: name '_name_' is not defined"
          ]
        }
      ],
      "source": [
        "from cryptography.hazmat.primitives.ciphers import Cipher, algorithms, modes\n",
        "from cryptography.hazmat.primitives import padding, hashes\n",
        "from cryptography.hazmat.backends import default_backend\n",
        "from cryptography.hazmat.primitives.asymmetric import ec\n",
        "import pandas as pd\n",
        "import os\n",
        "import random\n",
        "\n",
        "def generate_dh_key_pair():\n",
        "    private_key = ec.generate_private_key(ec.SECP256R1(), default_backend())\n",
        "    public_key = private_key.public_key()\n",
        "    return private_key, public_key\n",
        "\n",
        "def perform_dh_and_derive_key(private_key, public_key):\n",
        "    shared_key = private_key.exchange(ec.ECDH(), public_key)\n",
        "    symmetric_key = hashes.Hash(hashes.SHA256(), backend=default_backend())\n",
        "    symmetric_key.update(shared_key)\n",
        "    symmetric_key = symmetric_key.finalize()\n",
        "    return symmetric_key\n",
        "\n",
        "def encrypt_message(key, message):\n",
        "    iv = os.urandom(12)  # Use os.urandom() for generating the Initialization Vector (IV)\n",
        "    backend = default_backend()\n",
        "    cipher = Cipher(algorithms.AES(key), modes.GCM(iv), backend=backend)\n",
        "    encryptor = cipher.encryptor()\n",
        "    encryptor.authenticate_additional_data(iv)\n",
        "    ciphertext = encryptor.update(message) + encryptor.finalize()\n",
        "    return iv + ciphertext + encryptor.tag\n",
        "\n",
        "# Decrypt a message using AES\n",
        "def decrypt_message(key, encrypted_message):\n",
        "    iv = encrypted_message[:12]\n",
        "    backend = default_backend()\n",
        "    ciphertext = encrypted_message[12:-16]\n",
        "    tag = encrypted_message[-16:]\n",
        "    cipher = Cipher(algorithms.AES(key), modes.GCM(iv, tag), backend=backend)\n",
        "    decryptor = cipher.decryptor()\n",
        "    decryptor.authenticate_additional_data(iv)\n",
        "    plaintext = decryptor.update(ciphertext) + decryptor.finalize()\n",
        "    return plaintext\n",
        "\n",
        "def main():\n",
        "    Node1_private_key, Node1_public_key = generate_dh_key_pair()\n",
        "    Node2_private_key, Node2_public_key = generate_dh_key_pair()\n",
        "\n",
        "    Node1_shared_key = perform_dh_and_derive_key(Node1_private_key, Node2_public_key)\n",
        "    Node2_shared_key = perform_dh_and_derive_key(Node2_private_key, Node1_public_key)\n",
        "\n",
        "    if Node1_shared_key == Node2_shared_key:\n",
        "        print(\"Shared keys match!\")\n",
        "        print(\"Node1 and Node2 are verified\")\n",
        "        print(\"So,AES Encryption and Decryption Process  Will start\")\n",
        "        print()\n",
        "        excel_file_path = r'C:\\Users\\M.JAGADEESH\\Downloads\\Book1.xlsx'\n",
        "        df = pd.read_excel(excel_file_path)\n",
        "        column_names = df.columns.tolist()\n",
        "        bp_column = 'bp'\n",
        "        data = df[bp_column]\n",
        "        i = random.randint(0, 84)\n",
        "        for _ in range(5):\n",
        "            index_to_print = i\n",
        "            d = data.iloc[index_to_print]\n",
        "            h=str(d)\n",
        "            i+=1\n",
        "            message = h.encode()\n",
        "            print(\"data:\",float(message.decode()));\n",
        "            # Encrypt the message using the symmetric key\n",
        "            encrypted_message = encrypt_message(Node1_shared_key, message)\n",
        "            print(\"Encrypted data at Node1:\", encrypted_message)\n",
        "\n",
        "            # Decrypt the message using the symmetric key\n",
        "            decrypted_message = decrypt_message(Node2_shared_key, encrypted_message)\n",
        "            print(\"Decrypted data at Node2:\", decrypted_message.decode(),\"\\n\")\n",
        "        print(\"A circle is done\")\n",
        "    else:\n",
        "        print(\"Shared keys do not match!\")\n",
        "\n",
        "if _name_ == \"_main_\":\n",
        "    main()"
      ]
    }
  ]
}